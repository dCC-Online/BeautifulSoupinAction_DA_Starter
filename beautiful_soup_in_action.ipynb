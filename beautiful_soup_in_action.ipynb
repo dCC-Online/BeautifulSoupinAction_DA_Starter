{
 "cells": [
  {
   "cell_type": "markdown",
   "metadata": {},
   "source": [
    "# Beautiful Soup in Action\n",
    "---"
   ]
  },
  {
   "cell_type": "markdown",
   "metadata": {},
   "source": [
    "## Part 1: HTML Scavenger Hunt\n",
    "##### Using you web browser's inspector, answer the following questions by exploring the HTML structure, elements, and attributes"
   ]
  },
  {
   "cell_type": "markdown",
   "metadata": {},
   "source": [
    "**Task 1:** Name the element that contains all visible elements on a web page\n",
    "* (YOUR ANSWER HERE)"
   ]
  },
  {
   "cell_type": "markdown",
   "metadata": {},
   "source": [
    "**Task 2:** As soon as the web page loads in the browser, a large block of text that says **Test Sites** appears at the top of the page.  What type of element is this text, and does this element have any classes, id's, or other attributes?\n",
    "* (YOUR ANSWER HERE)"
   ]
  },
  {
   "cell_type": "markdown",
   "metadata": {},
   "source": [
    "**Task 3:** Using your inspector, identify the type of element and class name for the tag that holds all of the elements for the following card (see below screenshot!)\n",
    "* (YOUR ANSWER HERE)"
   ]
  },
  {
   "cell_type": "markdown",
   "metadata": {},
   "source": [
    "![ProductCard](assets/productcard.png)"
   ]
  },
  {
   "cell_type": "markdown",
   "metadata": {},
   "source": [
    "**Task 4:** Inside the card for the **Galaxy Tab 3**, locate the **paragraph element** with a class of **pull-right**.  What is the text content of the element?\n",
    "\n",
    "* (YOUR ANSWER HERE)"
   ]
  },
  {
   "cell_type": "markdown",
   "metadata": {},
   "source": [
    "**Task 5:** Using your inspector, identify the **type of element** and **attribute** that holds information about the average product rating\n",
    "* (YOUR ANSWER HERE)"
   ]
  },
  {
   "cell_type": "markdown",
   "metadata": {},
   "source": [
    "---\n",
    "## Part 2: Web Scraping"
   ]
  },
  {
   "cell_type": "markdown",
   "metadata": {},
   "source": [
    "##### As a Data Analysts, I want to set up my imports for **Beautiful Soup, requests, and csv**, so I will have access to all of the necessary packages and tools for web scraping"
   ]
  },
  {
   "cell_type": "code",
   "execution_count": null,
   "metadata": {},
   "outputs": [],
   "source": []
  },
  {
   "cell_type": "markdown",
   "metadata": {},
   "source": [
    "##### As a Data Analyst, I want to prepare my CSV file for writing, which will include:\n",
    "* Opening my CSV file for *writing*, and saving as a variable\n",
    "* Creating a new **writer** for my CSV\n",
    "* Using my writer to write 1 row to my CSV containing the following column headers:\n",
    "    * Product_Name\n",
    "    * Price\n",
    "    * Description\n",
    "    * Number_of_Reviews\n",
    "    * Average_Rating"
   ]
  },
  {
   "cell_type": "code",
   "execution_count": null,
   "metadata": {},
   "outputs": [],
   "source": []
  },
  {
   "cell_type": "markdown",
   "metadata": {},
   "source": [
    "##### As a Data Analyst, I want to use **requests** to get the targeted page for web scraping, and save it as a variable\n",
    "* Target URL: https://webscraper.io/test-sites/e-commerce/allinone/computers/tablets"
   ]
  },
  {
   "cell_type": "code",
   "execution_count": null,
   "metadata": {},
   "outputs": [],
   "source": []
  },
  {
   "cell_type": "markdown",
   "metadata": {},
   "source": [
    "##### As a Data Analyst, I want to use Beautiful Soup to create a `soup object` from my target page variable, and save it as it's own variable"
   ]
  },
  {
   "cell_type": "code",
   "execution_count": null,
   "metadata": {},
   "outputs": [],
   "source": []
  },
  {
   "cell_type": "markdown",
   "metadata": {},
   "source": [
    "##### As a Data Analyst, I want to locate all product \"cards\" from my `soup object`, and save them in a variable"
   ]
  },
  {
   "cell_type": "code",
   "execution_count": null,
   "metadata": {},
   "outputs": [],
   "source": []
  },
  {
   "cell_type": "markdown",
   "metadata": {},
   "source": [
    "##### As a Data Analyst, I want to loop through each product card, and locate the following pieces of data, saving each in it's own variable:\n",
    "* The product name\n",
    "* The product price\n",
    "* The product description\n",
    "* The number of reviews\n",
    "* The average rating\n",
    "\n",
    "##### Additionally, I will verify I have selected the correct information using the debugger and print() statements before proceeding"
   ]
  },
  {
   "cell_type": "code",
   "execution_count": null,
   "metadata": {},
   "outputs": [],
   "source": []
  },
  {
   "cell_type": "markdown",
   "metadata": {},
   "source": [
    "##### As a Data Analyst, I want to adjust my for loop, and use my writer to write a new row in my CSV for each product card\n",
    "* I will provide this new row as a **list**, with the order of values matching with the order of my column headers"
   ]
  },
  {
   "cell_type": "markdown",
   "metadata": {},
   "source": [
    "##### As a Data Analyst, I want to *close* my CSV file to save my changes"
   ]
  },
  {
   "cell_type": "code",
   "execution_count": null,
   "metadata": {},
   "outputs": [],
   "source": []
  },
  {
   "cell_type": "markdown",
   "metadata": {},
   "source": [
    "---\n",
    "## Part 3: Bonus Task\n",
    "#### As a Data Analyst, I want to take all of the above steps, and convert them from a Jupyter Notebook into a Python Script (.py) file\n",
    "* I will test the successful conversion of my file by re-executing my web scraping code, to verify the results are the same"
   ]
  }
 ],
 "metadata": {
  "kernelspec": {
   "display_name": "Python 3.10.7 64-bit",
   "language": "python",
   "name": "python3"
  },
  "language_info": {
   "name": "python",
   "version": "3.10.7"
  },
  "orig_nbformat": 4,
  "vscode": {
   "interpreter": {
    "hash": "991b4f12e3cd7e62d84ec965b56412c4354ac1fe6297d96f50a80e713193dd77"
   }
  }
 },
 "nbformat": 4,
 "nbformat_minor": 2
}
